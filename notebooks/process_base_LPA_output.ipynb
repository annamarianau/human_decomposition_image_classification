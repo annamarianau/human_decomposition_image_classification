{
 "cells": [
  {
   "cell_type": "code",
   "execution_count": 33,
   "metadata": {},
   "outputs": [],
   "source": [
    "import pandas as pd\n",
    "import pickle"
   ]
  },
  {
   "cell_type": "code",
   "execution_count": 34,
   "metadata": {},
   "outputs": [],
   "source": [
    "def unpickle(file_path):\n",
    "    with open(file_path, 'rb') as f:\n",
    "        data = pickle.load(f)\n",
    "    return data"
   ]
  },
  {
   "cell_type": "code",
   "execution_count": 35,
   "metadata": {},
   "outputs": [
    {
     "name": "stdout",
     "output_type": "stream",
     "text": [
      "20230208.4_classes.propagated       labels_ls2        predictions.csv\r\n",
      "20230208.4_classes.propagated_k_10  lp.transduction_  test_mult_15\r\n",
      "20230208.4_classes.propagated_k_20  lpa_k_10          test_mult_15.pickle\r\n",
      "20230208.4_classes.propagated_k_5   lpa_k_20          train_mult_70\r\n",
      "embeddings_ls1                      lpa_k_5           train_mult_70.pickle\r\n",
      "embeddings_ls2                      paths_ls1         val_mult_15\r\n",
      "labels_ls1                          paths_ls2         val_mult_15.pickle\r\n"
     ]
    }
   ],
   "source": [
    "%ls ../data/4_classes/null_hypoth/"
   ]
  },
  {
   "cell_type": "code",
   "execution_count": 36,
   "metadata": {},
   "outputs": [
    {
     "name": "stdout",
     "output_type": "stream",
     "text": [
      "328 328\n",
      "29003 29003\n",
      "29331\n",
      "29331\n",
      "29331\n"
     ]
    }
   ],
   "source": [
    "paths_ls1 = unpickle('../data/4_classes/null_hypoth/paths_ls1')\n",
    "labels_ls1 = unpickle('../data/4_classes/null_hypoth/labels_ls1')\n",
    "print(len(paths_ls1), len(labels_ls1))\n",
    "\n",
    "paths_ls2 = unpickle('../data/4_classes/null_hypoth/paths_ls2')\n",
    "labels_ls2 = unpickle('../data/4_classes/null_hypoth/labels_ls2')\n",
    "print(len(paths_ls2), len(labels_ls2))\n",
    "\n",
    "lpa_k_5 = unpickle('../data/4_classes/null_hypoth/lpa_k_5')\n",
    "print(len(lpa_k_5))\n",
    "\n",
    "lpa_k_10 = unpickle('../data/4_classes/null_hypoth/lpa_k_10')\n",
    "print(len(lpa_k_10))\n",
    "\n",
    "lpa_k_20 = unpickle('../data/4_classes/null_hypoth/lpa_k_20')\n",
    "print(len(lpa_k_20))"
   ]
  },
  {
   "cell_type": "code",
   "execution_count": 37,
   "metadata": {},
   "outputs": [
    {
     "data": {
      "text/html": [
       "<div>\n",
       "<style scoped>\n",
       "    .dataframe tbody tr th:only-of-type {\n",
       "        vertical-align: middle;\n",
       "    }\n",
       "\n",
       "    .dataframe tbody tr th {\n",
       "        vertical-align: top;\n",
       "    }\n",
       "\n",
       "    .dataframe thead th {\n",
       "        text-align: right;\n",
       "    }\n",
       "</style>\n",
       "<table border=\"1\" class=\"dataframe\">\n",
       "  <thead>\n",
       "    <tr style=\"text-align: right;\">\n",
       "      <th></th>\n",
       "      <th>path</th>\n",
       "      <th>label</th>\n",
       "      <th>prop_label</th>\n",
       "    </tr>\n",
       "  </thead>\n",
       "  <tbody>\n",
       "    <tr>\n",
       "      <th>29326</th>\n",
       "      <td>/da1_data/icputrd/arf/mean.js/public/anau_img3...</td>\n",
       "      <td>-1</td>\n",
       "      <td>0</td>\n",
       "    </tr>\n",
       "    <tr>\n",
       "      <th>29327</th>\n",
       "      <td>/da1_data/icputrd/arf/mean.js/public/anau_img3...</td>\n",
       "      <td>-1</td>\n",
       "      <td>1</td>\n",
       "    </tr>\n",
       "    <tr>\n",
       "      <th>29328</th>\n",
       "      <td>/da1_data/icputrd/arf/mean.js/public/anau_img3...</td>\n",
       "      <td>-1</td>\n",
       "      <td>2</td>\n",
       "    </tr>\n",
       "    <tr>\n",
       "      <th>29329</th>\n",
       "      <td>/da1_data/icputrd/arf/mean.js/public/anau_img3...</td>\n",
       "      <td>-1</td>\n",
       "      <td>0</td>\n",
       "    </tr>\n",
       "    <tr>\n",
       "      <th>29330</th>\n",
       "      <td>/da1_data/icputrd/arf/mean.js/public/anau_img3...</td>\n",
       "      <td>-1</td>\n",
       "      <td>3</td>\n",
       "    </tr>\n",
       "  </tbody>\n",
       "</table>\n",
       "</div>"
      ],
      "text/plain": [
       "                                                    path  label  prop_label\n",
       "29326  /da1_data/icputrd/arf/mean.js/public/anau_img3...     -1           0\n",
       "29327  /da1_data/icputrd/arf/mean.js/public/anau_img3...     -1           1\n",
       "29328  /da1_data/icputrd/arf/mean.js/public/anau_img3...     -1           2\n",
       "29329  /da1_data/icputrd/arf/mean.js/public/anau_img3...     -1           0\n",
       "29330  /da1_data/icputrd/arf/mean.js/public/anau_img3...     -1           3"
      ]
     },
     "metadata": {},
     "output_type": "display_data"
    },
    {
     "name": "stdout",
     "output_type": "stream",
     "text": [
      "[0 1 3 2]\n"
     ]
    }
   ],
   "source": [
    "df_lpa_k_5 = pd.DataFrame(paths_ls1+paths_ls2 , columns=['path'])\n",
    "df_lpa_k_5['label'] = labels_ls1+labels_ls2\n",
    "df_lpa_k_5['prop_label'] = lpa_k_5\n",
    "display(df_lpa_k_5.tail())\n",
    "print(df_lpa_k_5.prop_label.unique())"
   ]
  },
  {
   "cell_type": "code",
   "execution_count": 38,
   "metadata": {},
   "outputs": [
    {
     "data": {
      "text/html": [
       "<div>\n",
       "<style scoped>\n",
       "    .dataframe tbody tr th:only-of-type {\n",
       "        vertical-align: middle;\n",
       "    }\n",
       "\n",
       "    .dataframe tbody tr th {\n",
       "        vertical-align: top;\n",
       "    }\n",
       "\n",
       "    .dataframe thead th {\n",
       "        text-align: right;\n",
       "    }\n",
       "</style>\n",
       "<table border=\"1\" class=\"dataframe\">\n",
       "  <thead>\n",
       "    <tr style=\"text-align: right;\">\n",
       "      <th></th>\n",
       "      <th>path</th>\n",
       "      <th>label</th>\n",
       "      <th>prop_label</th>\n",
       "    </tr>\n",
       "  </thead>\n",
       "  <tbody>\n",
       "    <tr>\n",
       "      <th>29326</th>\n",
       "      <td>/da1_data/icputrd/arf/mean.js/public/anau_img3...</td>\n",
       "      <td>-1</td>\n",
       "      <td>0</td>\n",
       "    </tr>\n",
       "    <tr>\n",
       "      <th>29327</th>\n",
       "      <td>/da1_data/icputrd/arf/mean.js/public/anau_img3...</td>\n",
       "      <td>-1</td>\n",
       "      <td>3</td>\n",
       "    </tr>\n",
       "    <tr>\n",
       "      <th>29328</th>\n",
       "      <td>/da1_data/icputrd/arf/mean.js/public/anau_img3...</td>\n",
       "      <td>-1</td>\n",
       "      <td>0</td>\n",
       "    </tr>\n",
       "    <tr>\n",
       "      <th>29329</th>\n",
       "      <td>/da1_data/icputrd/arf/mean.js/public/anau_img3...</td>\n",
       "      <td>-1</td>\n",
       "      <td>0</td>\n",
       "    </tr>\n",
       "    <tr>\n",
       "      <th>29330</th>\n",
       "      <td>/da1_data/icputrd/arf/mean.js/public/anau_img3...</td>\n",
       "      <td>-1</td>\n",
       "      <td>3</td>\n",
       "    </tr>\n",
       "  </tbody>\n",
       "</table>\n",
       "</div>"
      ],
      "text/plain": [
       "                                                    path  label  prop_label\n",
       "29326  /da1_data/icputrd/arf/mean.js/public/anau_img3...     -1           0\n",
       "29327  /da1_data/icputrd/arf/mean.js/public/anau_img3...     -1           3\n",
       "29328  /da1_data/icputrd/arf/mean.js/public/anau_img3...     -1           0\n",
       "29329  /da1_data/icputrd/arf/mean.js/public/anau_img3...     -1           0\n",
       "29330  /da1_data/icputrd/arf/mean.js/public/anau_img3...     -1           3"
      ]
     },
     "metadata": {},
     "output_type": "display_data"
    },
    {
     "name": "stdout",
     "output_type": "stream",
     "text": [
      "[0 1 3 2]\n"
     ]
    }
   ],
   "source": [
    "df_lpa_k_10 = pd.DataFrame(paths_ls1+paths_ls2 , columns=['path'])\n",
    "df_lpa_k_10['label'] = labels_ls1+labels_ls2\n",
    "df_lpa_k_10['prop_label'] = lpa_k_10\n",
    "display(df_lpa_k_10.tail())\n",
    "print(df_lpa_k_10.prop_label.unique())"
   ]
  },
  {
   "cell_type": "code",
   "execution_count": 39,
   "metadata": {},
   "outputs": [
    {
     "data": {
      "text/html": [
       "<div>\n",
       "<style scoped>\n",
       "    .dataframe tbody tr th:only-of-type {\n",
       "        vertical-align: middle;\n",
       "    }\n",
       "\n",
       "    .dataframe tbody tr th {\n",
       "        vertical-align: top;\n",
       "    }\n",
       "\n",
       "    .dataframe thead th {\n",
       "        text-align: right;\n",
       "    }\n",
       "</style>\n",
       "<table border=\"1\" class=\"dataframe\">\n",
       "  <thead>\n",
       "    <tr style=\"text-align: right;\">\n",
       "      <th></th>\n",
       "      <th>path</th>\n",
       "      <th>label</th>\n",
       "      <th>prop_label</th>\n",
       "    </tr>\n",
       "  </thead>\n",
       "  <tbody>\n",
       "    <tr>\n",
       "      <th>29326</th>\n",
       "      <td>/da1_data/icputrd/arf/mean.js/public/anau_img3...</td>\n",
       "      <td>-1</td>\n",
       "      <td>1</td>\n",
       "    </tr>\n",
       "    <tr>\n",
       "      <th>29327</th>\n",
       "      <td>/da1_data/icputrd/arf/mean.js/public/anau_img3...</td>\n",
       "      <td>-1</td>\n",
       "      <td>3</td>\n",
       "    </tr>\n",
       "    <tr>\n",
       "      <th>29328</th>\n",
       "      <td>/da1_data/icputrd/arf/mean.js/public/anau_img3...</td>\n",
       "      <td>-1</td>\n",
       "      <td>0</td>\n",
       "    </tr>\n",
       "    <tr>\n",
       "      <th>29329</th>\n",
       "      <td>/da1_data/icputrd/arf/mean.js/public/anau_img3...</td>\n",
       "      <td>-1</td>\n",
       "      <td>0</td>\n",
       "    </tr>\n",
       "    <tr>\n",
       "      <th>29330</th>\n",
       "      <td>/da1_data/icputrd/arf/mean.js/public/anau_img3...</td>\n",
       "      <td>-1</td>\n",
       "      <td>3</td>\n",
       "    </tr>\n",
       "  </tbody>\n",
       "</table>\n",
       "</div>"
      ],
      "text/plain": [
       "                                                    path  label  prop_label\n",
       "29326  /da1_data/icputrd/arf/mean.js/public/anau_img3...     -1           1\n",
       "29327  /da1_data/icputrd/arf/mean.js/public/anau_img3...     -1           3\n",
       "29328  /da1_data/icputrd/arf/mean.js/public/anau_img3...     -1           0\n",
       "29329  /da1_data/icputrd/arf/mean.js/public/anau_img3...     -1           0\n",
       "29330  /da1_data/icputrd/arf/mean.js/public/anau_img3...     -1           3"
      ]
     },
     "metadata": {},
     "output_type": "display_data"
    },
    {
     "name": "stdout",
     "output_type": "stream",
     "text": [
      "[0 1 3 2]\n"
     ]
    }
   ],
   "source": [
    "df_lpa_k_20 = pd.DataFrame(paths_ls1+paths_ls2 , columns=['path'])\n",
    "df_lpa_k_20['label'] = labels_ls1+labels_ls2\n",
    "df_lpa_k_20['prop_label'] = lpa_k_20\n",
    "display(df_lpa_k_20.tail())\n",
    "print(df_lpa_k_20.prop_label.unique())"
   ]
  },
  {
   "cell_type": "code",
   "execution_count": 40,
   "metadata": {},
   "outputs": [
    {
     "name": "stdout",
     "output_type": "stream",
     "text": [
      "(29331, 4)\n"
     ]
    },
    {
     "data": {
      "text/html": [
       "<div>\n",
       "<style scoped>\n",
       "    .dataframe tbody tr th:only-of-type {\n",
       "        vertical-align: middle;\n",
       "    }\n",
       "\n",
       "    .dataframe tbody tr th {\n",
       "        vertical-align: top;\n",
       "    }\n",
       "\n",
       "    .dataframe thead th {\n",
       "        text-align: right;\n",
       "    }\n",
       "</style>\n",
       "<table border=\"1\" class=\"dataframe\">\n",
       "  <thead>\n",
       "    <tr style=\"text-align: right;\">\n",
       "      <th></th>\n",
       "      <th>path</th>\n",
       "      <th>label</th>\n",
       "      <th>prop_label</th>\n",
       "      <th>id</th>\n",
       "    </tr>\n",
       "  </thead>\n",
       "  <tbody>\n",
       "    <tr>\n",
       "      <th>29326</th>\n",
       "      <td>/da1_data/icputrd/arf/mean.js/public/anau_img3...</td>\n",
       "      <td>-1</td>\n",
       "      <td>0</td>\n",
       "      <td>fb5</td>\n",
       "    </tr>\n",
       "    <tr>\n",
       "      <th>29327</th>\n",
       "      <td>/da1_data/icputrd/arf/mean.js/public/anau_img3...</td>\n",
       "      <td>-1</td>\n",
       "      <td>1</td>\n",
       "      <td>fc0</td>\n",
       "    </tr>\n",
       "    <tr>\n",
       "      <th>29328</th>\n",
       "      <td>/da1_data/icputrd/arf/mean.js/public/anau_img3...</td>\n",
       "      <td>-1</td>\n",
       "      <td>2</td>\n",
       "      <td>fd5</td>\n",
       "    </tr>\n",
       "    <tr>\n",
       "      <th>29329</th>\n",
       "      <td>/da1_data/icputrd/arf/mean.js/public/anau_img3...</td>\n",
       "      <td>-1</td>\n",
       "      <td>0</td>\n",
       "      <td>fd5</td>\n",
       "    </tr>\n",
       "    <tr>\n",
       "      <th>29330</th>\n",
       "      <td>/da1_data/icputrd/arf/mean.js/public/anau_img3...</td>\n",
       "      <td>-1</td>\n",
       "      <td>3</td>\n",
       "      <td>ff6</td>\n",
       "    </tr>\n",
       "  </tbody>\n",
       "</table>\n",
       "</div>"
      ],
      "text/plain": [
       "                                                    path  label  prop_label  \\\n",
       "29326  /da1_data/icputrd/arf/mean.js/public/anau_img3...     -1           0   \n",
       "29327  /da1_data/icputrd/arf/mean.js/public/anau_img3...     -1           1   \n",
       "29328  /da1_data/icputrd/arf/mean.js/public/anau_img3...     -1           2   \n",
       "29329  /da1_data/icputrd/arf/mean.js/public/anau_img3...     -1           0   \n",
       "29330  /da1_data/icputrd/arf/mean.js/public/anau_img3...     -1           3   \n",
       "\n",
       "        id  \n",
       "29326  fb5  \n",
       "29327  fc0  \n",
       "29328  fd5  \n",
       "29329  fd5  \n",
       "29330  ff6  "
      ]
     },
     "execution_count": 40,
     "metadata": {},
     "output_type": "execute_result"
    }
   ],
   "source": [
    "df_lpa_k_5['id'] = df_lpa_k_5.path.str.split('/',expand=True)[7]\n",
    "print(df_lpa_k_5.shape)\n",
    "df_lpa_k_5.tail()"
   ]
  },
  {
   "cell_type": "code",
   "execution_count": 41,
   "metadata": {},
   "outputs": [
    {
     "name": "stdout",
     "output_type": "stream",
     "text": [
      "(29331, 4)\n"
     ]
    },
    {
     "data": {
      "text/html": [
       "<div>\n",
       "<style scoped>\n",
       "    .dataframe tbody tr th:only-of-type {\n",
       "        vertical-align: middle;\n",
       "    }\n",
       "\n",
       "    .dataframe tbody tr th {\n",
       "        vertical-align: top;\n",
       "    }\n",
       "\n",
       "    .dataframe thead th {\n",
       "        text-align: right;\n",
       "    }\n",
       "</style>\n",
       "<table border=\"1\" class=\"dataframe\">\n",
       "  <thead>\n",
       "    <tr style=\"text-align: right;\">\n",
       "      <th></th>\n",
       "      <th>path</th>\n",
       "      <th>label</th>\n",
       "      <th>prop_label</th>\n",
       "      <th>id</th>\n",
       "    </tr>\n",
       "  </thead>\n",
       "  <tbody>\n",
       "    <tr>\n",
       "      <th>29326</th>\n",
       "      <td>/da1_data/icputrd/arf/mean.js/public/anau_img3...</td>\n",
       "      <td>-1</td>\n",
       "      <td>0</td>\n",
       "      <td>fb5</td>\n",
       "    </tr>\n",
       "    <tr>\n",
       "      <th>29327</th>\n",
       "      <td>/da1_data/icputrd/arf/mean.js/public/anau_img3...</td>\n",
       "      <td>-1</td>\n",
       "      <td>3</td>\n",
       "      <td>fc0</td>\n",
       "    </tr>\n",
       "    <tr>\n",
       "      <th>29328</th>\n",
       "      <td>/da1_data/icputrd/arf/mean.js/public/anau_img3...</td>\n",
       "      <td>-1</td>\n",
       "      <td>0</td>\n",
       "      <td>fd5</td>\n",
       "    </tr>\n",
       "    <tr>\n",
       "      <th>29329</th>\n",
       "      <td>/da1_data/icputrd/arf/mean.js/public/anau_img3...</td>\n",
       "      <td>-1</td>\n",
       "      <td>0</td>\n",
       "      <td>fd5</td>\n",
       "    </tr>\n",
       "    <tr>\n",
       "      <th>29330</th>\n",
       "      <td>/da1_data/icputrd/arf/mean.js/public/anau_img3...</td>\n",
       "      <td>-1</td>\n",
       "      <td>3</td>\n",
       "      <td>ff6</td>\n",
       "    </tr>\n",
       "  </tbody>\n",
       "</table>\n",
       "</div>"
      ],
      "text/plain": [
       "                                                    path  label  prop_label  \\\n",
       "29326  /da1_data/icputrd/arf/mean.js/public/anau_img3...     -1           0   \n",
       "29327  /da1_data/icputrd/arf/mean.js/public/anau_img3...     -1           3   \n",
       "29328  /da1_data/icputrd/arf/mean.js/public/anau_img3...     -1           0   \n",
       "29329  /da1_data/icputrd/arf/mean.js/public/anau_img3...     -1           0   \n",
       "29330  /da1_data/icputrd/arf/mean.js/public/anau_img3...     -1           3   \n",
       "\n",
       "        id  \n",
       "29326  fb5  \n",
       "29327  fc0  \n",
       "29328  fd5  \n",
       "29329  fd5  \n",
       "29330  ff6  "
      ]
     },
     "execution_count": 41,
     "metadata": {},
     "output_type": "execute_result"
    }
   ],
   "source": [
    "df_lpa_k_10['id'] = df_lpa_k_10.path.str.split('/',expand=True)[7]\n",
    "print(df_lpa_k_10.shape)\n",
    "df_lpa_k_10.tail()"
   ]
  },
  {
   "cell_type": "code",
   "execution_count": 42,
   "metadata": {},
   "outputs": [
    {
     "name": "stdout",
     "output_type": "stream",
     "text": [
      "(29331, 4)\n"
     ]
    },
    {
     "data": {
      "text/html": [
       "<div>\n",
       "<style scoped>\n",
       "    .dataframe tbody tr th:only-of-type {\n",
       "        vertical-align: middle;\n",
       "    }\n",
       "\n",
       "    .dataframe tbody tr th {\n",
       "        vertical-align: top;\n",
       "    }\n",
       "\n",
       "    .dataframe thead th {\n",
       "        text-align: right;\n",
       "    }\n",
       "</style>\n",
       "<table border=\"1\" class=\"dataframe\">\n",
       "  <thead>\n",
       "    <tr style=\"text-align: right;\">\n",
       "      <th></th>\n",
       "      <th>path</th>\n",
       "      <th>label</th>\n",
       "      <th>prop_label</th>\n",
       "      <th>id</th>\n",
       "    </tr>\n",
       "  </thead>\n",
       "  <tbody>\n",
       "    <tr>\n",
       "      <th>29326</th>\n",
       "      <td>/da1_data/icputrd/arf/mean.js/public/anau_img3...</td>\n",
       "      <td>-1</td>\n",
       "      <td>1</td>\n",
       "      <td>fb5</td>\n",
       "    </tr>\n",
       "    <tr>\n",
       "      <th>29327</th>\n",
       "      <td>/da1_data/icputrd/arf/mean.js/public/anau_img3...</td>\n",
       "      <td>-1</td>\n",
       "      <td>3</td>\n",
       "      <td>fc0</td>\n",
       "    </tr>\n",
       "    <tr>\n",
       "      <th>29328</th>\n",
       "      <td>/da1_data/icputrd/arf/mean.js/public/anau_img3...</td>\n",
       "      <td>-1</td>\n",
       "      <td>0</td>\n",
       "      <td>fd5</td>\n",
       "    </tr>\n",
       "    <tr>\n",
       "      <th>29329</th>\n",
       "      <td>/da1_data/icputrd/arf/mean.js/public/anau_img3...</td>\n",
       "      <td>-1</td>\n",
       "      <td>0</td>\n",
       "      <td>fd5</td>\n",
       "    </tr>\n",
       "    <tr>\n",
       "      <th>29330</th>\n",
       "      <td>/da1_data/icputrd/arf/mean.js/public/anau_img3...</td>\n",
       "      <td>-1</td>\n",
       "      <td>3</td>\n",
       "      <td>ff6</td>\n",
       "    </tr>\n",
       "  </tbody>\n",
       "</table>\n",
       "</div>"
      ],
      "text/plain": [
       "                                                    path  label  prop_label  \\\n",
       "29326  /da1_data/icputrd/arf/mean.js/public/anau_img3...     -1           1   \n",
       "29327  /da1_data/icputrd/arf/mean.js/public/anau_img3...     -1           3   \n",
       "29328  /da1_data/icputrd/arf/mean.js/public/anau_img3...     -1           0   \n",
       "29329  /da1_data/icputrd/arf/mean.js/public/anau_img3...     -1           0   \n",
       "29330  /da1_data/icputrd/arf/mean.js/public/anau_img3...     -1           3   \n",
       "\n",
       "        id  \n",
       "29326  fb5  \n",
       "29327  fc0  \n",
       "29328  fd5  \n",
       "29329  fd5  \n",
       "29330  ff6  "
      ]
     },
     "execution_count": 42,
     "metadata": {},
     "output_type": "execute_result"
    }
   ],
   "source": [
    "df_lpa_k_20['id'] = df_lpa_k_20.path.str.split('/',expand=True)[7]\n",
    "print(df_lpa_k_20.shape)\n",
    "df_lpa_k_20.tail()"
   ]
  },
  {
   "cell_type": "code",
   "execution_count": 43,
   "metadata": {},
   "outputs": [
    {
     "name": "stdout",
     "output_type": "stream",
     "text": [
      "(328, 1)\n"
     ]
    },
    {
     "data": {
      "text/html": [
       "<div>\n",
       "<style scoped>\n",
       "    .dataframe tbody tr th:only-of-type {\n",
       "        vertical-align: middle;\n",
       "    }\n",
       "\n",
       "    .dataframe tbody tr th {\n",
       "        vertical-align: top;\n",
       "    }\n",
       "\n",
       "    .dataframe thead th {\n",
       "        text-align: right;\n",
       "    }\n",
       "</style>\n",
       "<table border=\"1\" class=\"dataframe\">\n",
       "  <thead>\n",
       "    <tr style=\"text-align: right;\">\n",
       "      <th></th>\n",
       "      <th>path</th>\n",
       "    </tr>\n",
       "  </thead>\n",
       "  <tbody>\n",
       "    <tr>\n",
       "      <th>0</th>\n",
       "      <td>/da1_data/icputrd/arf/mean.js/public/anau_img3...</td>\n",
       "    </tr>\n",
       "    <tr>\n",
       "      <th>1</th>\n",
       "      <td>/da1_data/icputrd/arf/mean.js/public/anau_img3...</td>\n",
       "    </tr>\n",
       "    <tr>\n",
       "      <th>2</th>\n",
       "      <td>/da1_data/icputrd/arf/mean.js/public/anau_img3...</td>\n",
       "    </tr>\n",
       "    <tr>\n",
       "      <th>3</th>\n",
       "      <td>/da1_data/icputrd/arf/mean.js/public/anau_img3...</td>\n",
       "    </tr>\n",
       "    <tr>\n",
       "      <th>4</th>\n",
       "      <td>/da1_data/icputrd/arf/mean.js/public/anau_img3...</td>\n",
       "    </tr>\n",
       "  </tbody>\n",
       "</table>\n",
       "</div>"
      ],
      "text/plain": [
       "                                                path\n",
       "0  /da1_data/icputrd/arf/mean.js/public/anau_img3...\n",
       "1  /da1_data/icputrd/arf/mean.js/public/anau_img3...\n",
       "2  /da1_data/icputrd/arf/mean.js/public/anau_img3...\n",
       "3  /da1_data/icputrd/arf/mean.js/public/anau_img3...\n",
       "4  /da1_data/icputrd/arf/mean.js/public/anau_img3..."
      ]
     },
     "execution_count": 43,
     "metadata": {},
     "output_type": "execute_result"
    }
   ],
   "source": [
    "df_labeled_id = pd.DataFrame(paths_ls1, columns=['path'])\n",
    "print(df_labeled_id.shape)\n",
    "df_labeled_id.head()"
   ]
  },
  {
   "cell_type": "code",
   "execution_count": 44,
   "metadata": {},
   "outputs": [
    {
     "name": "stdout",
     "output_type": "stream",
     "text": [
      "(89, 1)\n"
     ]
    },
    {
     "data": {
      "text/html": [
       "<div>\n",
       "<style scoped>\n",
       "    .dataframe tbody tr th:only-of-type {\n",
       "        vertical-align: middle;\n",
       "    }\n",
       "\n",
       "    .dataframe tbody tr th {\n",
       "        vertical-align: top;\n",
       "    }\n",
       "\n",
       "    .dataframe thead th {\n",
       "        text-align: right;\n",
       "    }\n",
       "</style>\n",
       "<table border=\"1\" class=\"dataframe\">\n",
       "  <thead>\n",
       "    <tr style=\"text-align: right;\">\n",
       "      <th></th>\n",
       "      <th>id</th>\n",
       "    </tr>\n",
       "  </thead>\n",
       "  <tbody>\n",
       "    <tr>\n",
       "      <th>0</th>\n",
       "      <td>07b</td>\n",
       "    </tr>\n",
       "    <tr>\n",
       "      <th>1</th>\n",
       "      <td>dea</td>\n",
       "    </tr>\n",
       "    <tr>\n",
       "      <th>2</th>\n",
       "      <td>9f4</td>\n",
       "    </tr>\n",
       "    <tr>\n",
       "      <th>3</th>\n",
       "      <td>65b</td>\n",
       "    </tr>\n",
       "    <tr>\n",
       "      <th>4</th>\n",
       "      <td>4e4</td>\n",
       "    </tr>\n",
       "  </tbody>\n",
       "</table>\n",
       "</div>"
      ],
      "text/plain": [
       "    id\n",
       "0  07b\n",
       "1  dea\n",
       "2  9f4\n",
       "3  65b\n",
       "4  4e4"
      ]
     },
     "execution_count": 44,
     "metadata": {},
     "output_type": "execute_result"
    }
   ],
   "source": [
    "df_id = pd.DataFrame(df_labeled_id.path.str.split('/',expand=True)[7].unique(), columns=['id'])\n",
    "print(df_id.shape)\n",
    "df_id.head()"
   ]
  },
  {
   "cell_type": "code",
   "execution_count": 45,
   "metadata": {},
   "outputs": [
    {
     "data": {
      "text/html": [
       "<div>\n",
       "<style scoped>\n",
       "    .dataframe tbody tr th:only-of-type {\n",
       "        vertical-align: middle;\n",
       "    }\n",
       "\n",
       "    .dataframe tbody tr th {\n",
       "        vertical-align: top;\n",
       "    }\n",
       "\n",
       "    .dataframe thead th {\n",
       "        text-align: right;\n",
       "    }\n",
       "</style>\n",
       "<table border=\"1\" class=\"dataframe\">\n",
       "  <thead>\n",
       "    <tr style=\"text-align: right;\">\n",
       "      <th></th>\n",
       "      <th>path</th>\n",
       "      <th>label</th>\n",
       "      <th>prop_label</th>\n",
       "      <th>id</th>\n",
       "    </tr>\n",
       "  </thead>\n",
       "  <tbody>\n",
       "    <tr>\n",
       "      <th>0</th>\n",
       "      <td>/da1_data/icputrd/arf/mean.js/public/anau_img3...</td>\n",
       "      <td>0</td>\n",
       "      <td>0</td>\n",
       "      <td>07b</td>\n",
       "    </tr>\n",
       "    <tr>\n",
       "      <th>1</th>\n",
       "      <td>/da1_data/icputrd/arf/mean.js/public/anau_img3...</td>\n",
       "      <td>1</td>\n",
       "      <td>1</td>\n",
       "      <td>dea</td>\n",
       "    </tr>\n",
       "    <tr>\n",
       "      <th>2</th>\n",
       "      <td>/da1_data/icputrd/arf/mean.js/public/anau_img3...</td>\n",
       "      <td>3</td>\n",
       "      <td>3</td>\n",
       "      <td>9f4</td>\n",
       "    </tr>\n",
       "    <tr>\n",
       "      <th>3</th>\n",
       "      <td>/da1_data/icputrd/arf/mean.js/public/anau_img3...</td>\n",
       "      <td>3</td>\n",
       "      <td>3</td>\n",
       "      <td>65b</td>\n",
       "    </tr>\n",
       "    <tr>\n",
       "      <th>4</th>\n",
       "      <td>/da1_data/icputrd/arf/mean.js/public/anau_img3...</td>\n",
       "      <td>1</td>\n",
       "      <td>1</td>\n",
       "      <td>4e4</td>\n",
       "    </tr>\n",
       "  </tbody>\n",
       "</table>\n",
       "</div>"
      ],
      "text/plain": [
       "                                                path  label  prop_label   id\n",
       "0  /da1_data/icputrd/arf/mean.js/public/anau_img3...      0           0  07b\n",
       "1  /da1_data/icputrd/arf/mean.js/public/anau_img3...      1           1  dea\n",
       "2  /da1_data/icputrd/arf/mean.js/public/anau_img3...      3           3  9f4\n",
       "3  /da1_data/icputrd/arf/mean.js/public/anau_img3...      3           3  65b\n",
       "4  /da1_data/icputrd/arf/mean.js/public/anau_img3...      1           1  4e4"
      ]
     },
     "execution_count": 45,
     "metadata": {},
     "output_type": "execute_result"
    }
   ],
   "source": [
    "df_lpa_k_5.head()"
   ]
  },
  {
   "cell_type": "code",
   "execution_count": 46,
   "metadata": {},
   "outputs": [
    {
     "name": "stdout",
     "output_type": "stream",
     "text": [
      "(24918, 4)\n"
     ]
    },
    {
     "data": {
      "text/html": [
       "<div>\n",
       "<style scoped>\n",
       "    .dataframe tbody tr th:only-of-type {\n",
       "        vertical-align: middle;\n",
       "    }\n",
       "\n",
       "    .dataframe tbody tr th {\n",
       "        vertical-align: top;\n",
       "    }\n",
       "\n",
       "    .dataframe thead th {\n",
       "        text-align: right;\n",
       "    }\n",
       "</style>\n",
       "<table border=\"1\" class=\"dataframe\">\n",
       "  <thead>\n",
       "    <tr style=\"text-align: right;\">\n",
       "      <th></th>\n",
       "      <th>path</th>\n",
       "      <th>label</th>\n",
       "      <th>prop_label</th>\n",
       "      <th>id</th>\n",
       "    </tr>\n",
       "  </thead>\n",
       "  <tbody>\n",
       "    <tr>\n",
       "      <th>0</th>\n",
       "      <td>/da1_data/icputrd/arf/mean.js/public/anau_img3...</td>\n",
       "      <td>0</td>\n",
       "      <td>0</td>\n",
       "      <td>07b</td>\n",
       "    </tr>\n",
       "    <tr>\n",
       "      <th>1</th>\n",
       "      <td>/da1_data/icputrd/arf/mean.js/public/anau_img3...</td>\n",
       "      <td>3</td>\n",
       "      <td>3</td>\n",
       "      <td>07b</td>\n",
       "    </tr>\n",
       "    <tr>\n",
       "      <th>2</th>\n",
       "      <td>/da1_data/icputrd/arf/mean.js/public/anau_img3...</td>\n",
       "      <td>0</td>\n",
       "      <td>0</td>\n",
       "      <td>07b</td>\n",
       "    </tr>\n",
       "    <tr>\n",
       "      <th>3</th>\n",
       "      <td>/da1_data/icputrd/arf/mean.js/public/anau_img3...</td>\n",
       "      <td>-1</td>\n",
       "      <td>0</td>\n",
       "      <td>07b</td>\n",
       "    </tr>\n",
       "    <tr>\n",
       "      <th>4</th>\n",
       "      <td>/da1_data/icputrd/arf/mean.js/public/anau_img3...</td>\n",
       "      <td>-1</td>\n",
       "      <td>2</td>\n",
       "      <td>07b</td>\n",
       "    </tr>\n",
       "  </tbody>\n",
       "</table>\n",
       "</div>"
      ],
      "text/plain": [
       "                                                path  label  prop_label   id\n",
       "0  /da1_data/icputrd/arf/mean.js/public/anau_img3...      0           0  07b\n",
       "1  /da1_data/icputrd/arf/mean.js/public/anau_img3...      3           3  07b\n",
       "2  /da1_data/icputrd/arf/mean.js/public/anau_img3...      0           0  07b\n",
       "3  /da1_data/icputrd/arf/mean.js/public/anau_img3...     -1           0  07b\n",
       "4  /da1_data/icputrd/arf/mean.js/public/anau_img3...     -1           2  07b"
      ]
     },
     "execution_count": 46,
     "metadata": {},
     "output_type": "execute_result"
    }
   ],
   "source": [
    "df_lpa_k_5_filtered = pd.merge(df_lpa_k_5,df_id,on='id', how='inner')\n",
    "print(df_lpa_k_5_filtered.shape)\n",
    "df_lpa_k_5_filtered.head()"
   ]
  },
  {
   "cell_type": "code",
   "execution_count": 47,
   "metadata": {},
   "outputs": [
    {
     "name": "stdout",
     "output_type": "stream",
     "text": [
      "(24918, 4)\n"
     ]
    },
    {
     "data": {
      "text/html": [
       "<div>\n",
       "<style scoped>\n",
       "    .dataframe tbody tr th:only-of-type {\n",
       "        vertical-align: middle;\n",
       "    }\n",
       "\n",
       "    .dataframe tbody tr th {\n",
       "        vertical-align: top;\n",
       "    }\n",
       "\n",
       "    .dataframe thead th {\n",
       "        text-align: right;\n",
       "    }\n",
       "</style>\n",
       "<table border=\"1\" class=\"dataframe\">\n",
       "  <thead>\n",
       "    <tr style=\"text-align: right;\">\n",
       "      <th></th>\n",
       "      <th>path</th>\n",
       "      <th>label</th>\n",
       "      <th>prop_label</th>\n",
       "      <th>id</th>\n",
       "    </tr>\n",
       "  </thead>\n",
       "  <tbody>\n",
       "    <tr>\n",
       "      <th>0</th>\n",
       "      <td>/da1_data/icputrd/arf/mean.js/public/anau_img3...</td>\n",
       "      <td>0</td>\n",
       "      <td>0</td>\n",
       "      <td>07b</td>\n",
       "    </tr>\n",
       "    <tr>\n",
       "      <th>1</th>\n",
       "      <td>/da1_data/icputrd/arf/mean.js/public/anau_img3...</td>\n",
       "      <td>3</td>\n",
       "      <td>3</td>\n",
       "      <td>07b</td>\n",
       "    </tr>\n",
       "    <tr>\n",
       "      <th>2</th>\n",
       "      <td>/da1_data/icputrd/arf/mean.js/public/anau_img3...</td>\n",
       "      <td>0</td>\n",
       "      <td>0</td>\n",
       "      <td>07b</td>\n",
       "    </tr>\n",
       "    <tr>\n",
       "      <th>3</th>\n",
       "      <td>/da1_data/icputrd/arf/mean.js/public/anau_img3...</td>\n",
       "      <td>-1</td>\n",
       "      <td>0</td>\n",
       "      <td>07b</td>\n",
       "    </tr>\n",
       "    <tr>\n",
       "      <th>4</th>\n",
       "      <td>/da1_data/icputrd/arf/mean.js/public/anau_img3...</td>\n",
       "      <td>-1</td>\n",
       "      <td>1</td>\n",
       "      <td>07b</td>\n",
       "    </tr>\n",
       "  </tbody>\n",
       "</table>\n",
       "</div>"
      ],
      "text/plain": [
       "                                                path  label  prop_label   id\n",
       "0  /da1_data/icputrd/arf/mean.js/public/anau_img3...      0           0  07b\n",
       "1  /da1_data/icputrd/arf/mean.js/public/anau_img3...      3           3  07b\n",
       "2  /da1_data/icputrd/arf/mean.js/public/anau_img3...      0           0  07b\n",
       "3  /da1_data/icputrd/arf/mean.js/public/anau_img3...     -1           0  07b\n",
       "4  /da1_data/icputrd/arf/mean.js/public/anau_img3...     -1           1  07b"
      ]
     },
     "execution_count": 47,
     "metadata": {},
     "output_type": "execute_result"
    }
   ],
   "source": [
    "df_lpa_k_10_filtered = pd.merge(df_lpa_k_10,df_id,on='id', how='inner')\n",
    "print(df_lpa_k_10_filtered.shape)\n",
    "df_lpa_k_10_filtered.head()"
   ]
  },
  {
   "cell_type": "code",
   "execution_count": 48,
   "metadata": {},
   "outputs": [
    {
     "name": "stdout",
     "output_type": "stream",
     "text": [
      "(24918, 4)\n"
     ]
    },
    {
     "data": {
      "text/html": [
       "<div>\n",
       "<style scoped>\n",
       "    .dataframe tbody tr th:only-of-type {\n",
       "        vertical-align: middle;\n",
       "    }\n",
       "\n",
       "    .dataframe tbody tr th {\n",
       "        vertical-align: top;\n",
       "    }\n",
       "\n",
       "    .dataframe thead th {\n",
       "        text-align: right;\n",
       "    }\n",
       "</style>\n",
       "<table border=\"1\" class=\"dataframe\">\n",
       "  <thead>\n",
       "    <tr style=\"text-align: right;\">\n",
       "      <th></th>\n",
       "      <th>path</th>\n",
       "      <th>label</th>\n",
       "      <th>prop_label</th>\n",
       "      <th>id</th>\n",
       "    </tr>\n",
       "  </thead>\n",
       "  <tbody>\n",
       "    <tr>\n",
       "      <th>0</th>\n",
       "      <td>/da1_data/icputrd/arf/mean.js/public/anau_img3...</td>\n",
       "      <td>0</td>\n",
       "      <td>0</td>\n",
       "      <td>07b</td>\n",
       "    </tr>\n",
       "    <tr>\n",
       "      <th>1</th>\n",
       "      <td>/da1_data/icputrd/arf/mean.js/public/anau_img3...</td>\n",
       "      <td>3</td>\n",
       "      <td>3</td>\n",
       "      <td>07b</td>\n",
       "    </tr>\n",
       "    <tr>\n",
       "      <th>2</th>\n",
       "      <td>/da1_data/icputrd/arf/mean.js/public/anau_img3...</td>\n",
       "      <td>0</td>\n",
       "      <td>0</td>\n",
       "      <td>07b</td>\n",
       "    </tr>\n",
       "    <tr>\n",
       "      <th>3</th>\n",
       "      <td>/da1_data/icputrd/arf/mean.js/public/anau_img3...</td>\n",
       "      <td>-1</td>\n",
       "      <td>0</td>\n",
       "      <td>07b</td>\n",
       "    </tr>\n",
       "    <tr>\n",
       "      <th>4</th>\n",
       "      <td>/da1_data/icputrd/arf/mean.js/public/anau_img3...</td>\n",
       "      <td>-1</td>\n",
       "      <td>1</td>\n",
       "      <td>07b</td>\n",
       "    </tr>\n",
       "  </tbody>\n",
       "</table>\n",
       "</div>"
      ],
      "text/plain": [
       "                                                path  label  prop_label   id\n",
       "0  /da1_data/icputrd/arf/mean.js/public/anau_img3...      0           0  07b\n",
       "1  /da1_data/icputrd/arf/mean.js/public/anau_img3...      3           3  07b\n",
       "2  /da1_data/icputrd/arf/mean.js/public/anau_img3...      0           0  07b\n",
       "3  /da1_data/icputrd/arf/mean.js/public/anau_img3...     -1           0  07b\n",
       "4  /da1_data/icputrd/arf/mean.js/public/anau_img3...     -1           1  07b"
      ]
     },
     "execution_count": 48,
     "metadata": {},
     "output_type": "execute_result"
    }
   ],
   "source": [
    "df_lpa_k_20_filtered = pd.merge(df_lpa_k_20,df_id,on='id', how='inner')\n",
    "print(df_lpa_k_20_filtered.shape)\n",
    "df_lpa_k_20_filtered.head()"
   ]
  },
  {
   "cell_type": "code",
   "execution_count": 50,
   "metadata": {},
   "outputs": [],
   "source": [
    "df_lpa_k_5_filtered[['path', 'prop_label']].to_csv('../data/4_classes/null_hypoth/20230208.4_classes.propagated_k_5',\n",
    "                                           header=False, index=False)\n",
    "df_lpa_k_10_filtered[['path', 'prop_label']].to_csv('../data/4_classes/null_hypoth/20230208.4_classes.propagated_k_10',\n",
    "                                           header=False, index=False)\n",
    "df_lpa_k_20_filtered[['path', 'prop_label']].to_csv('../data/4_classes/null_hypoth/20230208.4_classes.propagated_k_20',\n",
    "                                           header=False, index=False)"
   ]
  },
  {
   "cell_type": "code",
   "execution_count": null,
   "metadata": {},
   "outputs": [],
   "source": []
  }
 ],
 "metadata": {
  "kernelspec": {
   "display_name": "Python 3",
   "language": "python",
   "name": "python3"
  },
  "language_info": {
   "codemirror_mode": {
    "name": "ipython",
    "version": 3
   },
   "file_extension": ".py",
   "mimetype": "text/x-python",
   "name": "python",
   "nbconvert_exporter": "python",
   "pygments_lexer": "ipython3",
   "version": "3.8.10"
  }
 },
 "nbformat": 4,
 "nbformat_minor": 2
}
